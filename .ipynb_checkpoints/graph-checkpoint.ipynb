{
 "cells": [
  {
   "cell_type": "code",
   "execution_count": null,
   "id": "b1ffa1bc-f6d1-4a61-b625-a525356e82b4",
   "metadata": {},
   "outputs": [],
   "source": [
    "# create matrix"
   ]
  },
  {
   "cell_type": "code",
   "execution_count": 33,
   "id": "a60f9be0-7807-4789-82e1-62d0aef663ee",
   "metadata": {},
   "outputs": [
    {
     "name": "stdout",
     "output_type": "stream",
     "text": [
      "[[0, 0, 0, 0], [0, 0, 0, 0], [0, 0, 0, 0], [0, 0, 0, 0]]\n"
     ]
    }
   ],
   "source": [
    "def createMatrix(row,column):\n",
    "    m=[];\n",
    "    for j in range (row):\n",
    "        r=[];\n",
    "        for i in range (column):\n",
    "            r.append(0)\n",
    "        m.append(r)\n",
    "\n",
    "    return m\n",
    "\n",
    "m1=createMatrix(4,4)\n",
    "print(m1)"
   ]
  },
  {
   "cell_type": "raw",
   "id": "ed4bed26-995c-42a3-8081-f128cb77dc75",
   "metadata": {},
   "source": [
    "# Read File"
   ]
  },
  {
   "cell_type": "code",
   "execution_count": 10,
   "id": "6d3aef44-50c6-4a13-bfcb-15568db35708",
   "metadata": {},
   "outputs": [
    {
     "name": "stdout",
     "output_type": "stream",
     "text": [
      "6 9\n",
      "0 1\n",
      "0 2\n",
      "1 2\n",
      "1 3\n",
      "2 3\n",
      "3 4\n",
      "4 0\n",
      "4 1\n",
      "4 5\n"
     ]
    }
   ],
   "source": [
    "f= open(\"graph.txt\",\"r\")\n",
    "print(f.read())"
   ]
  },
  {
   "cell_type": "code",
   "execution_count": 43,
   "id": "4aaeb6b7-b4a3-4067-87db-63eb0cd96e81",
   "metadata": {},
   "outputs": [
    {
     "name": "stdout",
     "output_type": "stream",
     "text": [
      "6\n",
      "[0, 1, 1, 0, 0, 0]\n",
      "[0, 0, 1, 1, 0, 0]\n",
      "[0, 0, 0, 1, 0, 0]\n",
      "[0, 0, 0, 0, 1, 0]\n",
      "[1, 1, 0, 0, 0, 1]\n",
      "[0, 0, 0, 0, 0, 0]\n"
     ]
    }
   ],
   "source": [
    "f= open(\"graph.txt\",\"r\")\n",
    "vertex_edge= f.readline()\n",
    "vertex_edge1=vertex_edge.split()\n",
    "vertex=int(vertex_edge1[0])\n",
    "#print(vertex)\n",
    "edges=int(vertex_edge1[1])\n",
    "Matrix= createMatrix(vertex,vertex)\n",
    "\n",
    "for i in range (edges):\n",
    "    e=f.readline()\n",
    "    e1=e.split()\n",
    "    u=int(e1[0])\n",
    "    v=int(e1[1])\n",
    "    #print(u,v)\n",
    "    Matrix[u][v]=1\n",
    "for r in Matrix:\n",
    "    print(r)\n"
   ]
  },
  {
   "cell_type": "code",
   "execution_count": null,
   "id": "3f152851-3ccf-46c6-bb34-fd60de4830d6",
   "metadata": {},
   "outputs": [],
   "source": []
  }
 ],
 "metadata": {
  "kernelspec": {
   "display_name": "Python [conda env:base] *",
   "language": "python",
   "name": "conda-base-py"
  },
  "language_info": {
   "codemirror_mode": {
    "name": "ipython",
    "version": 3
   },
   "file_extension": ".py",
   "mimetype": "text/x-python",
   "name": "python",
   "nbconvert_exporter": "python",
   "pygments_lexer": "ipython3",
   "version": "3.12.7"
  }
 },
 "nbformat": 4,
 "nbformat_minor": 5
}
